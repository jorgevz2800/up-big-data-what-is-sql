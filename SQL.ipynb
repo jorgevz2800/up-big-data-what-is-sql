{
  "nbformat": 4,
  "nbformat_minor": 0,
  "metadata": {
    "colab": {
      "provenance": []
    },
    "kernelspec": {
      "name": "python3",
      "display_name": "Python 3"
    },
    "language_info": {
      "name": "python"
    }
  },
  "cells": [
    {
      "cell_type": "markdown",
      "source": [
        "#**¿SQL?** \n",
        "SQL (Structured Query Language) es un lenguaje de programación diseñado para administrar y consultar bases de datos relacionales. Se utiliza para crear, modificar y manipular datos almacenados en una base de datos relacional. SQL es un lenguaje declarativo, lo que significa que los usuarios especifican lo que quieren que haga el motor de la base de datos, y este se encarga de determinar la mejor manera de hacerlo.\n",
        "\n",
        "\n",
        "---\n",
        "\n"
      ],
      "metadata": {
        "id": "mA44Mm6DXKjX"
      }
    },
    {
      "cell_type": "markdown",
      "source": [
        "#**¿Qué hace SQL?**\n",
        "* Crear tablas y definir su estructura y relaciones\n",
        "* Insertar, actualizar y eliminar registros en una tabla\n",
        "* Recuperar datos de una o varias tablas utilizando diferentes filtros y criterios\n",
        "* Agrupar y resumir datos utilizando funciones de agregación como SUM, COUNT, AVG, MAX, MIN, entre otras\n",
        "* Unir dos o más tablas utilizando JOIN para obtener datos de ambas\n",
        "* Crear vistas y procedimientos almacenados para simplificar la complejidad de las consultas y automatizar tareas\n",
        "\n",
        "\n",
        "---\n",
        "\n"
      ],
      "metadata": {
        "id": "3zh8MdNuXdJn"
      }
    },
    {
      "cell_type": "markdown",
      "source": [
        "##Conceptos importantes de SQL:\n",
        "###SELECT\n",
        "La sentencia SELECT es utilizada para recuperar datos de una o más tablas de una base de datos. La sintaxis básica de la sentencia SELECT es la siguiente:\n",
        "\n",
        "\n",
        "```\n",
        "SELECT column1, column2, ...\n",
        "FROM table_name;\n",
        "```\n",
        "Por ejemplo, si tenemos una tabla de empleados con las columnas \"id\", \"nombre\", \"apellido\" y \"edad\", podemos recuperar todos los registros utilizando la siguiente sentencia SQL:\n",
        "```\n",
        "SELECT * FROM empleados;\n",
        "```\n",
        "\n",
        "\n",
        "---\n",
        "\n"
      ],
      "metadata": {
        "id": "cKOedqHQX1qS"
      }
    },
    {
      "cell_type": "markdown",
      "source": [
        "##WHERE:\n",
        "La cláusula WHERE es utilizada para filtrar registros de una tabla que cumplan ciertas condiciones. La sintaxis básica es la siguiente:\n",
        "```\n",
        "SELECT column1, column2, ...\n",
        "FROM table_name\n",
        "WHERE condition;\n",
        "```\n",
        "Por ejemplo, si queremos recuperar los registros de empleados que tengan una edad mayor a 30 años, podemos utilizar la siguiente sentencia SQL:\n",
        "\n",
        "```\n",
        "SELECT * FROM empleados WHERE edad > 30;\n",
        "\n",
        "```\n",
        "\n",
        "\n",
        "---"
      ],
      "metadata": {
        "id": "2UDbbizNYUaA"
      }
    },
    {
      "cell_type": "markdown",
      "source": [
        "##JOIN:\n",
        "La cláusula JOIN es utilizada para combinar dos o más tablas en una sola consulta. La sintaxis básica es la siguiente:\n",
        "```\n",
        "SELECT column1, column2, ...\n",
        "FROM table1\n",
        "JOIN table2 ON condition;\n",
        "```\n",
        "Por ejemplo, si tenemos una tabla de empleados y una tabla de departamentos, y queremos recuperar el nombre del empleado y el nombre del departamento al que pertenece, podemos utilizar la siguiente sentencia SQL:\n",
        "```\n",
        "SELECT empleados.nombre, departamentos.nombre\n",
        "FROM empleados\n",
        "JOIN departamentos ON empleados.id_departamento = departamentos.id;\n",
        "```\n",
        "---"
      ],
      "metadata": {
        "id": "S1cxwMt3Yi8X"
      }
    },
    {
      "cell_type": "markdown",
      "source": [
        "##INSERT:\n",
        "La sentencia INSERT es utilizada para insertar nuevos registros en una tabla. La sintaxis básica es la siguiente:\n",
        "```\n",
        "INSERT INTO table_name (column1, column2, ...)\n",
        "VALUES (value1, value2, ...);\n",
        "```\n",
        "Por ejemplo, si queremos insertar un nuevo empleado en la tabla \"empleados\" con los valores \"Juan\", \"Pérez\", 25 y \"Ventas\" en las columnas \"nombre\", \"apellido\", \"edad\" y \"departamento\" respectivamente, podemos utilizar la siguiente sentencia SQL:\n",
        "```\n",
        "INSERT INTO empleados (nombre, apellido, edad, departamento)\n",
        "VALUES ('Juan', 'Pérez', 25, 'Ventas');\n",
        "\n",
        "```\n",
        "---"
      ],
      "metadata": {
        "id": "rVVM3NjHaLGu"
      }
    },
    {
      "cell_type": "markdown",
      "source": [
        "##UPDATE:\n",
        "La sentencia UPDATE es utilizada para actualizar registros existentes en una tabla. La sintaxis básica es la siguiente:\n",
        "```\n",
        "UPDATE table_name\n",
        "SET column1 = value1, column2 = value2, ...\n",
        "WHERE condition;\n",
        "```\n",
        "Por ejemplo, si queremos actualizar la edad de todos los empleados de la tabla \"empleados\" que tengan un departamento igual a \"Ventas\" a 30 años, podemos utilizar la siguiente sentencia SQL:\n",
        "```\n",
        "UPDATE empleados\n",
        "SET edad = 30\n",
        "WHERE departamento = 'Ventas';\n",
        "\n",
        "```\n",
        "---"
      ],
      "metadata": {
        "id": "hHl5_JMwab7N"
      }
    },
    {
      "cell_type": "markdown",
      "source": [
        "##DELETE:\n",
        "La sentencia DELETE es utilizada para eliminar registros existentes en una tabla. La sintaxis básica es la siguiente:\n",
        "```\n",
        "DELETE FROM table_name\n",
        "WHERE condition;\n",
        "\n",
        "```\n",
        "Por ejemplo, si queremos eliminar todos los empleados de la tabla \"empleados\" que tengan un departamento igual a \"Marketing\", podemos utilizar la siguiente sentencia SQL:\n",
        "```\n",
        "DELETE FROM empleados\n",
        "WHERE departamento = 'Marketing';\n",
        "```\n",
        "---"
      ],
      "metadata": {
        "id": "cTtoFLW2atR7"
      }
    },
    {
      "cell_type": "markdown",
      "source": [
        "GROUP BY:\n",
        "La cláusula GROUP BY es utilizada para agrupar registros según los valores de una o más columnas, y realizar operaciones de agregación como COUNT, SUM, AVG, entre otras. La sintaxis básica es la siguiente:\n",
        "```\n",
        "SELECT column1, column2, ..., aggregate_function(columnX)\n",
        "FROM table_name\n",
        "WHERE condition\n",
        "GROUP BY column1, column2, ...;\n",
        "```\n",
        "Por ejemplo, si queremos contar cuántos empleados hay en cada departamento de la tabla \"empleados\", podemos utilizar la siguiente sentencia SQL:\n",
        "```\n",
        "SELECT departamento, COUNT(*) as cantidad_empleados\n",
        "FROM empleados\n",
        "GROUP BY departamento;\n",
        "\n",
        "```"
      ],
      "metadata": {
        "id": "U3xScryqa8q5"
      }
    }
  ]
}